{
 "cells": [
  {
   "cell_type": "markdown",
   "metadata": {},
   "source": [
    "# Import Libs"
   ]
  },
  {
   "cell_type": "code",
   "execution_count": 1,
   "metadata": {},
   "outputs": [],
   "source": [
    "# from pprint import pprint as print\n",
    "import json\n",
    "import os\n",
    "import sys\n",
    "import numpy as np\n",
    "import pandas as pd\n",
    "import matplotlib.pyplot as plt\n",
    "from tqdm import tqdm\n",
    "# copy files\n",
    "import shutil\n",
    "# json\n",
    "import json\n",
    "# rich\n",
    "from rich import print\n",
    "import pprint\n",
    "import uuid\n",
    "import time\n",
    "import random\n",
    "# python dot env\n",
    "from dotenv import load_dotenv"
   ]
  },
  {
   "cell_type": "code",
   "execution_count": 2,
   "metadata": {},
   "outputs": [],
   "source": [
    "from typing import List, Dict, Any, Optional\n",
    "from pydantic import BaseModel, Field, model_validator, ConfigDict\n",
    "from typing import Annotated, Sequence, Any, Literal\n",
    "from typing_extensions import TypedDict"
   ]
  },
  {
   "cell_type": "code",
   "execution_count": 3,
   "metadata": {},
   "outputs": [
    {
     "name": "stderr",
     "output_type": "stream",
     "text": [
      "c:\\My Drive\\apps\\LLM-Exp\\venv\\Lib\\site-packages\\tqdm\\auto.py:21: TqdmWarning: IProgress not found. Please update jupyter and ipywidgets. See https://ipywidgets.readthedocs.io/en/stable/user_install.html\n",
      "  from .autonotebook import tqdm as notebook_tqdm\n"
     ]
    }
   ],
   "source": [
    "from langchain_openai import ChatOpenAI\n",
    "from langchain_google_genai import ChatGoogleGenerativeAI\n",
    "from langchain_anthropic import ChatAnthropic\n",
    "from langgraph.prebuilt import create_react_agent\n",
    "#\n",
    "from langgraph.checkpoint.memory import MemorySaver\n",
    "from langchain_core.tools import tool, StructuredTool\n",
    "from langgraph.graph import StateGraph, START, END, MessagesState\n",
    "from langgraph.graph.message import add_messages\n",
    "from IPython.display import Image, display\n",
    "from langchain_core.messages import ToolMessage, AIMessage, HumanMessage, BaseMessage, SystemMessage\n",
    "from langgraph.prebuilt import ToolNode, tools_condition\n",
    "import operator\n",
    "from langgraph.types import Command, interrupt\n",
    "from langgraph.prebuilt import create_react_agent, InjectedState\n",
    "from langchain.tools.retriever import create_retriever_tool\n",
    "from langchain_core.prompts import ChatPromptTemplate, MessagesPlaceholder, PromptTemplate\n",
    "from langchain_core.tools.base import InjectedToolCallId\n",
    "from langchain_core.output_parsers import StrOutputParser, JsonOutputParser, PydanticOutputParser"
   ]
  },
  {
   "cell_type": "markdown",
   "metadata": {},
   "source": [
    "# API Keys"
   ]
  },
  {
   "cell_type": "code",
   "execution_count": 4,
   "metadata": {},
   "outputs": [],
   "source": [
    "# API Keys\n",
    "load_dotenv()\n",
    "\n",
    "# langchain\n",
    "os.environ['LANGCHAIN_API_KEY'] = os.getenv('LANGCHAIN_API_KEY')\n",
    "os.environ['LANGCHAIN_TRACING_V2'] = os.getenv('LANGCHAIN_TRACING_V2')\n",
    "\n",
    "# open ai\n",
    "os.environ['OPENAI_API_KEY'] = os.getenv('OPENAI_API_KEY')\n",
    "# gemeni\n",
    "os.environ['GOOGLE_API_KEY'] = os.getenv('GOOGLE_API_KEY')\n",
    "# anthropic\n",
    "os.environ['ANTHROPIC_API_KEY'] = os.getenv('ANTHROPIC_API_KEY')"
   ]
  },
  {
   "cell_type": "markdown",
   "metadata": {},
   "source": [
    "# Models"
   ]
  },
  {
   "cell_type": "code",
   "execution_count": 5,
   "metadata": {},
   "outputs": [],
   "source": [
    "# open ai\n",
    "llm_openai = ChatOpenAI(\n",
    "    model=\"gpt-4o-mini\",\n",
    "    temperature=0,\n",
    "    max_retries=2\n",
    ")"
   ]
  },
  {
   "cell_type": "code",
   "execution_count": 6,
   "metadata": {},
   "outputs": [],
   "source": [
    "# gemini\n",
    "llm_gemini = ChatGoogleGenerativeAI(\n",
    "    model=\"gemini-1.5-flash\",\n",
    "    temperature=0,\n",
    "    max_retries=2,\n",
    "    # other params...\n",
    ")"
   ]
  },
  {
   "cell_type": "code",
   "execution_count": 7,
   "metadata": {},
   "outputs": [],
   "source": [
    "# model name\n",
    "model_name = 'claude-3-5-haiku-latest'\n",
    "\n",
    "# anthropic llm\n",
    "llm_anthropic = ChatAnthropic(\n",
    "    model=model_name, temperature=0\n",
    ")"
   ]
  },
  {
   "cell_type": "markdown",
   "metadata": {},
   "source": [
    "# Utils"
   ]
  },
  {
   "cell_type": "code",
   "execution_count": 8,
   "metadata": {},
   "outputs": [],
   "source": [
    "# Generate Thread Id\n",
    "def generate_thread_id():\n",
    "    return str(uuid.uuid4())\n",
    "\n",
    "\n",
    "def generate_thread():\n",
    "    \"\"\"Generate a thread\"\"\"\n",
    "    # thread id\n",
    "    thread_id = generate_thread_id()\n",
    "    # thread\n",
    "    thread = {\n",
    "        'configurable': {\n",
    "            'thread_id': thread_id\n",
    "        }\n",
    "    }\n",
    "    # return\n",
    "    return thread, thread_id"
   ]
  },
  {
   "cell_type": "markdown",
   "metadata": {},
   "source": [
    "# Tools"
   ]
  },
  {
   "cell_type": "code",
   "execution_count": 34,
   "metadata": {},
   "outputs": [],
   "source": [
    "@tool\n",
    "def generate_city(country: str):\n",
    "    \"\"\"\n",
    "    Generate a random city\n",
    "\n",
    "    Args:\n",
    "        country (str): Country name\n",
    "    \"\"\"\n",
    "    # city list\n",
    "    canada_city_list = ['Quebec', 'Toronto', 'Vancouver', 'Montreal', 'Ottawa',\n",
    "                 'Calgary', 'Edmonton', 'Winnipeg', 'Halifax', 'Victoria']\n",
    "    # usa\n",
    "    usa_city_list = ['New York', 'Los Angeles', 'Chicago', 'Houston', 'Phoenix',\n",
    "                 'Philadelphia', 'San Antonio', 'San Diego', 'Dallas', 'San Jose']\n",
    "    # mexico\n",
    "    mexico_city_list = ['Mexico City', 'Ecatepec', 'Guadalajara', 'Puebla', 'Juárez',\n",
    "                 'Tijuana', 'León', 'Zapopan', 'Monterrey', 'Nezahualcóyotl']\n",
    "\n",
    "    if country.lower() == 'canada':\n",
    "        # random id\n",
    "        id = random.randint(0, len(canada_city_list) - 1)\n",
    "        # return\n",
    "        return canada_city_list[id]\n",
    "    elif country.lower() == 'usa':\n",
    "        # random id\n",
    "        id = random.randint(0, len(usa_city_list) - 1)\n",
    "        # return\n",
    "        return usa_city_list[id]\n",
    "    elif country.lower() == 'mexico':\n",
    "        # random id\n",
    "        id = random.randint(0, len(mexico_city_list) - 1)\n",
    "        # return\n",
    "        return mexico_city_list[id]\n",
    "    else:\n",
    "        return \"Invalid Country\"\n",
    "\n",
    "\n",
    "@tool\n",
    "def predict_weather(city: str, season: str):\n",
    "    \"\"\"\n",
    "    Predict the weather of a city\n",
    "\n",
    "    Args:\n",
    "        city (str): City name\n",
    "        season (str): Season name\n",
    "    \"\"\"\n",
    "    # check season\n",
    "    if season.lower() == 'winter':\n",
    "        # weather\n",
    "        weather = {\n",
    "            'city': city,\n",
    "            'temperature': random.randint(-10, 10),\n",
    "            'humidity': random.randint(0, 100),\n",
    "            'wind': random.randint(0, 50)\n",
    "        }\n",
    "    elif season.lower() == 'spring':\n",
    "        # weather\n",
    "        weather = {\n",
    "            'city': city,\n",
    "            'temperature': random.randint(10, 20),\n",
    "            'humidity': random.randint(0, 100),\n",
    "            'wind': random.randint(0, 50)\n",
    "        }\n",
    "    elif season.lower() == 'summer':\n",
    "        # weather\n",
    "        weather = {\n",
    "            'city': city,\n",
    "            'temperature': random.randint(20, 30),\n",
    "            'humidity': random.randint(0, 100),\n",
    "            'wind': random.randint(0, 50)\n",
    "        }\n",
    "    elif season.lower() == 'fall':\n",
    "        # weather\n",
    "        weather = {\n",
    "            'city': city,\n",
    "            'temperature': random.randint(10, 20),\n",
    "            'humidity': random.randint(0, 100),\n",
    "            'wind': random.randint(0, 50)\n",
    "        }\n",
    "    else:\n",
    "        weather = 'Season not provided!'\n",
    "\n",
    "    # return\n",
    "    return weather"
   ]
  },
  {
   "cell_type": "markdown",
   "metadata": {},
   "source": [
    "# Graph"
   ]
  },
  {
   "cell_type": "markdown",
   "metadata": {},
   "source": [
    "## Graph State"
   ]
  },
  {
   "cell_type": "code",
   "execution_count": 10,
   "metadata": {},
   "outputs": [],
   "source": [
    "class State(MessagesState):\n",
    "    \"\"\"graph state\"\"\"\n",
    "    next: str\n",
    "    human_approval: bool = False\n",
    "    block_signal: str = \"\""
   ]
  },
  {
   "cell_type": "markdown",
   "metadata": {},
   "source": [
    "## Supervisor"
   ]
  },
  {
   "cell_type": "code",
   "execution_count": 38,
   "metadata": {},
   "outputs": [],
   "source": [
    "# NOTE\n",
    "# select model\n",
    "llm = llm_openai\n",
    "\n",
    "# blocks\n",
    "members = [\"city\", \"weather\"]\n",
    "# options (routes)\n",
    "options = members + [\"FINISH\"]\n",
    "\n",
    "# system prompt\n",
    "supervisor_system_prompt = f\"\"\"You are a supervisor tasked with managing a conversation between the following workers: {members}.\n",
    "Given the following user request, respond with the worker to act next. Each worker will perform a task and respond with their results and status.\n",
    "\n",
    "**Tasks to Manage:**\n",
    "- **city**: you are expected to choose a city using ONLY the tools provided.\n",
    "- **weather**: you are expected to predict weather for a city using ONLY the tools provided.\n",
    "\n",
    "**Instructions:**\n",
    "- When not sure to route to the following workers: {members} responds with **CHAT-WITH-USER**.\n",
    "- When finished all tasks, respond with **FINISH** and more explain.\n",
    "- When selecting a city done, respond with prefix **TASK-1-DONE**.\n",
    "- When predicting weather done, respond with prefix **TASK-2-DONE**.\n",
    "- **Never** use any external information.\"\"\"\n",
    "\n",
    "class Router(TypedDict):\n",
    "    \"\"\"Worker to route to next. If no workers needed, route to FINISH.\"\"\"\n",
    "    next: Literal[\"city\", \"weather\", \"FINISH\", \"CHAT-WITH-USER\", \"TASK-1-DONE\", \"TASK-2-DONE\"]\n",
    "\n",
    "# NOTE: Supervisor\n",
    "\n",
    "def supervisor_node(state: State) -> Command[Literal[\"city\", \"weather\", \"human\", \"__end__\"]]:\n",
    "    \"\"\"supervisor node\"\"\"\n",
    "    #  check messages\n",
    "    messages = state[\"messages\"]\n",
    "    # last message\n",
    "    last_message = messages[-1]\n",
    "\n",
    "    # human approval\n",
    "    human_approval = state.get(\"human_approval\", False)\n",
    "\n",
    "    # set message\n",
    "    messages = [\n",
    "        {\"role\": \"system\", \"content\": supervisor_system_prompt},\n",
    "    ] + [last_message]\n",
    "\n",
    "    # ask llm to route to next worker\n",
    "    response = llm.with_structured_output(Router).invoke(messages)\n",
    "    goto = response[\"next\"]\n",
    "\n",
    "    # check response\n",
    "    if goto == \"FINISH\":\n",
    "        goto = END\n",
    "\n",
    "    # check human approval\n",
    "    if goto == \"CHAT-WITH-USER\" or goto == \"TASK-1-DONE\" or goto == \"TASK-2-DONE\":\n",
    "        goto = \"human\"\n",
    "        human_approval = True\n",
    "        message = AIMessage(\n",
    "            content=f\"CHAT-WITH-USER: {last_message.content}\"\n",
    "        )\n",
    "\n",
    "        return Command(\n",
    "            goto=goto,\n",
    "            update={\n",
    "                \"next\": goto,\n",
    "                \"human_approval\": human_approval,\n",
    "                \"messages\": [message]\n",
    "                })\n",
    "\n",
    "    return Command(\n",
    "            goto=goto,\n",
    "            update={\n",
    "                \"next\": goto,\n",
    "                \"human_approval\": human_approval\n",
    "                })\n",
    "\n"
   ]
  },
  {
   "cell_type": "markdown",
   "metadata": {},
   "source": [
    "## Human (Chat)"
   ]
  },
  {
   "cell_type": "code",
   "execution_count": 39,
   "metadata": {},
   "outputs": [],
   "source": [
    "# NOTE: human node\n",
    "prompt_human = \"\"\"\"You are an expert to chat with user to collect information. \\n\n",
    "\n",
    "**Instructions:**\n",
    "- Check message and then make a question to ask user. \\n\n",
    "- When you get user answer call relevant tools. \\n\n",
    "- **Never** predict anything or use any external information. \\n\n",
    "\n",
    "Here is the input-message: \\n\n",
    "\"\"\"\n",
    "\n",
    "class CityTool(BaseModel):\n",
    "    \"\"\"City tool\"\"\"\n",
    "    response: str = Field(description=\"city tool perform tasks related to city generation\")\n",
    "\n",
    "class WeatherTool(BaseModel):\n",
    "    \"\"\"Weather tool\"\"\"\n",
    "    response: str = Field(description=\"weather tool to predict tasks related to weather prediction\")\n",
    "\n",
    "\n",
    "# # human model\n",
    "llm_human = llm.bind_tools([CityTool, WeatherTool])\n",
    "\n",
    "def human_node(state: State):\n",
    "    # system message\n",
    "    system_message = [SystemMessage(\n",
    "        content=prompt_human\n",
    "    )]\n",
    "    # set message\n",
    "    messages = system_message + state[\"messages\"]\n",
    "    # invoke\n",
    "    response = llm_human.invoke(messages)\n",
    "\n",
    "    # return\n",
    "    return {\n",
    "        \"messages\": [response],\n",
    "        \"human_approval\": True\n",
    "        }\n",
    "\n",
    "def human_state_node(state: State) -> Command[Literal[\"human\", \"HumanToolMessage\", \"__end__\"]]:\n",
    "    \"\"\"human state\"\"\"\n",
    "    # messages\n",
    "    messages = state[\"messages\"]\n",
    "    # last message\n",
    "    last_message = messages[-1]\n",
    "\n",
    "    # goto\n",
    "    goto = \"human\"\n",
    "    # human approval\n",
    "    human_approval = True\n",
    "\n",
    "    # check\n",
    "    if isinstance(last_message, AIMessage) and last_message.tool_calls:\n",
    "        goto = \"HumanToolMessage\"\n",
    "        human_approval = False\n",
    "    elif not isinstance(last_message, HumanMessage):\n",
    "        goto = END\n",
    "\n",
    "    return Command(\n",
    "        update={\"human_approval\": human_approval},\n",
    "        goto=goto\n",
    "        )\n",
    "\n",
    "def human_tool_message(state: State) -> Command[Literal[\"city\", \"weather\", \"supervisor\"]]:\n",
    "    # messages\n",
    "    messages = state[\"messages\"]\n",
    "    # last message\n",
    "    last_message = messages[-1]\n",
    "    # tool name\n",
    "    tool_name = last_message.tool_calls[0][\"name\"]\n",
    "    # tool call id\n",
    "    tool_call_id = last_message.tool_calls[0][\"id\"]\n",
    "    # args\n",
    "    tool_args = last_message.tool_calls[0][\"args\"]\n",
    "\n",
    "    # block signal\n",
    "    block_signal = state.get(\"block_signal\", \"supervisor\")\n",
    "\n",
    "    # check tool name\n",
    "    if tool_name == \"CityTool\":\n",
    "        # set\n",
    "        human_approval_res = CityTool(**tool_args)\n",
    "    elif tool_name == \"WeatherTool\":\n",
    "        # set\n",
    "        human_approval_res = WeatherTool(**tool_args)\n",
    "\n",
    "    # user response\n",
    "    user_response = human_approval_res.response\n",
    "\n",
    "    # tool message\n",
    "    tool_message = [ToolMessage(\n",
    "        content=human_approval_res,\n",
    "        tool_call_id=tool_call_id\n",
    "    )]\n",
    "\n",
    "    # ai message\n",
    "    human_message = [HumanMessage(\n",
    "        content=f\"I have all information required for {block_signal}: user response: {user_response}, block-signal: {block_signal}\"\n",
    "    )]\n",
    "\n",
    "    # return\n",
    "    return Command(\n",
    "        update={\n",
    "            \"messages\": tool_message + human_message,\n",
    "            \"human_approval\": False,\n",
    "            \"block_signal\": block_signal\n",
    "            },\n",
    "        goto=block_signal\n",
    "    )\n",
    "\n",
    "\n",
    "# NOTE: conditional START\n",
    "def start_state(state: State):\n",
    "    # human approval\n",
    "    human_approval = state.get(\"human_approval\", False)\n",
    "    print(f\"human_approval: {human_approval}\")\n",
    "\n",
    "    # check\n",
    "    if human_approval == False:\n",
    "        return 'supervisor'\n",
    "    else:\n",
    "        return 'human'"
   ]
  },
  {
   "cell_type": "markdown",
   "metadata": {},
   "source": [
    "## Agents 1"
   ]
  },
  {
   "cell_type": "code",
   "execution_count": 40,
   "metadata": {},
   "outputs": [],
   "source": [
    "# NOTE: Agent 1\n",
    "prompt_agent_1 = \"\"\"You are expected to choose a city from **country name** using ONLY the tools provided.\\n\n",
    "\n",
    "**Instructions:**\n",
    "- User MUST provide a country name, if not, you MUST ask user.\n",
    "- When the task is finished, respond with prefix 'TASK-1-DONE' and explain you can now go for predict weather.\\n\n",
    "- When encounter any data required, ask user to provide the information, and respond with prefix 'CHAT-WITH-USER'.\\n\n",
    "- **Never** predict anything or use any external information.\\n\n",
    "\"\"\"\n",
    "city_agent = create_react_agent(\n",
    "    llm, tools=[generate_city], state_modifier=prompt_agent_1\n",
    ")\n",
    "\n",
    "\n",
    "def city_node(state: State) -> Command[Literal[\"supervisor\", \"human\"]]:\n",
    "    result = city_agent.invoke(state)\n",
    "\n",
    "    # check result\n",
    "    if \"CHAT-WITH-USER\" in result[\"messages\"][-1].content:\n",
    "        return Command(\n",
    "            update={\n",
    "                \"messages\": [\n",
    "                    HumanMessage(content=result[\"messages\"]\n",
    "                                [-1].content, name=\"city-agent\")\n",
    "                ],\n",
    "                \"human_approval\": True,\n",
    "                \"block_signal\": \"city\"\n",
    "            },\n",
    "            goto=\"human\",\n",
    "        )\n",
    "\n",
    "    # return\n",
    "    return Command(\n",
    "        update={\n",
    "            \"messages\": [\n",
    "                HumanMessage(content=result[\"messages\"]\n",
    "                             [-1].content, name=\"city-agent\")\n",
    "            ]\n",
    "        },\n",
    "        goto=\"supervisor\",\n",
    "    )\n"
   ]
  },
  {
   "cell_type": "markdown",
   "metadata": {},
   "source": [
    "## Agent 2"
   ]
  },
  {
   "cell_type": "code",
   "execution_count": 41,
   "metadata": {},
   "outputs": [],
   "source": [
    "# NOTE: Agent 2\n",
    "prompt_agent_2 = \"\"\"You are expected to predict weather based on **city name** and **season name** using ONLY the tools provided.\\n\n",
    "\n",
    "**Instructions:**\n",
    "- User MUST provide a season name, if not, you MUST ask user. \\n\n",
    "- When the task is finished, respond with prefix 'TASK-2-DONE'.\\n\n",
    "- When encounter any data required, ask user to provide the information, and respond with prefix 'CHAT-WITH-USER'.\\n\n",
    "- **Never** use any external information.\\n\n",
    "\"\"\"\n",
    "weather_agent = create_react_agent(\n",
    "    llm, tools=[predict_weather], state_modifier=prompt_agent_2\n",
    ")\n",
    "\n",
    "def weather_node(state: State) -> Command[Literal[\"supervisor\", \"human\"]]:\n",
    "    result = weather_agent.invoke(state)\n",
    "\n",
    "    # check result\n",
    "    if \"CHAT-WITH-USER\" in result[\"messages\"][-1].content:\n",
    "        return Command(\n",
    "            update={\n",
    "                \"messages\": [\n",
    "                    HumanMessage(content=result[\"messages\"]\n",
    "                                [-1].content, name=\"weather-agent\")\n",
    "                ],\n",
    "                \"human_approval\": True,\n",
    "                \"block_signal\": \"weather\"\n",
    "            },\n",
    "            goto=\"human\",\n",
    "        )\n",
    "\n",
    "    return Command(\n",
    "        update={\n",
    "            \"messages\": [\n",
    "                HumanMessage(content=result[\"messages\"]\n",
    "                             [-1].content, name=\"weather-agent\")\n",
    "            ]\n",
    "        },\n",
    "        goto=\"supervisor\",\n",
    "    )"
   ]
  },
  {
   "cell_type": "markdown",
   "metadata": {},
   "source": [
    "## Create Graph"
   ]
  },
  {
   "cell_type": "code",
   "execution_count": 42,
   "metadata": {},
   "outputs": [
    {
     "data": {
      "image/png": "[encoded data removed]",
      "text/plain": [
       "<IPython.core.display.Image object>"
      ]
     },
     "metadata": {},
     "output_type": "display_data"
    }
   ],
   "source": [
    "# memory\n",
    "memory = MemorySaver()\n",
    "\n",
    "# create graph\n",
    "builder = StateGraph(State)\n",
    "# nodes\n",
    "builder.add_node(\"supervisor\", supervisor_node)\n",
    "builder.add_node(\"city\", city_node)\n",
    "builder.add_node(\"weather\", weather_node)\n",
    "builder.add_node(\"human\", human_node)\n",
    "builder.add_node(\"HumanToolMessage\", human_tool_message)\n",
    "builder.add_node(\"human_state\", human_state_node)\n",
    "\n",
    "# edges\n",
    "builder.add_conditional_edges(START, start_state, ['supervisor', 'human'])\n",
    "builder.add_edge(\"human\", \"human_state\")\n",
    "\n",
    "# compile\n",
    "graph = builder.compile(checkpointer=memory)\n",
    "\n",
    "# visualize\n",
    "display(Image(graph.get_graph(xray=False).draw_mermaid_png()))"
   ]
  },
  {
   "cell_type": "markdown",
   "metadata": {},
   "source": [
    "# Streaming"
   ]
  },
  {
   "cell_type": "code",
   "execution_count": 43,
   "metadata": {},
   "outputs": [
    {
     "data": {
      "text/html": [
       "<pre style=\"white-space:pre;overflow-x:auto;line-height:normal;font-family:Menlo,'DejaVu Sans Mono',consolas,'Courier New',monospace\">thread: <span style=\"font-weight: bold\">{</span><span style=\"color: #008000; text-decoration-color: #008000\">'configurable'</span>: <span style=\"font-weight: bold\">{</span><span style=\"color: #008000; text-decoration-color: #008000\">'thread_id'</span>: <span style=\"color: #008000; text-decoration-color: #008000\">'c23c5315-b525-4420-a06e-e91fe683a270'</span><span style=\"font-weight: bold\">}}</span>\n",
       "</pre>\n"
      ],
      "text/plain": [
       "thread: \u001b[1m{\u001b[0m\u001b[32m'configurable'\u001b[0m: \u001b[1m{\u001b[0m\u001b[32m'thread_id'\u001b[0m: \u001b[32m'c23c5315-b525-4420-a06e-e91fe683a270'\u001b[0m\u001b[1m}\u001b[0m\u001b[1m}\u001b[0m\n"
      ]
     },
     "metadata": {},
     "output_type": "display_data"
    }
   ],
   "source": [
    "# thread\n",
    "thread, thread_id = generate_thread()\n",
    "print(f\"thread: {thread}\")"
   ]
  },
  {
   "cell_type": "code",
   "execution_count": 44,
   "metadata": {},
   "outputs": [
    {
     "data": {
      "text/html": [
       "<pre style=\"white-space:pre;overflow-x:auto;line-height:normal;font-family:Menlo,'DejaVu Sans Mono',consolas,'Courier New',monospace\">human message: <span style=\"color: #808000; text-decoration-color: #808000\">content</span>=<span style=\"color: #008000; text-decoration-color: #008000\">'Hi, What you can do?'</span> <span style=\"color: #808000; text-decoration-color: #808000\">additional_kwargs</span>=<span style=\"font-weight: bold\">{}</span> <span style=\"color: #808000; text-decoration-color: #808000\">response_metadata</span>=<span style=\"font-weight: bold\">{}</span>\n",
       "</pre>\n"
      ],
      "text/plain": [
       "human message: \u001b[33mcontent\u001b[0m=\u001b[32m'Hi, What you can do?'\u001b[0m \u001b[33madditional_kwargs\u001b[0m=\u001b[1m{\u001b[0m\u001b[1m}\u001b[0m \u001b[33mresponse_metadata\u001b[0m=\u001b[1m{\u001b[0m\u001b[1m}\u001b[0m\n"
      ]
     },
     "metadata": {},
     "output_type": "display_data"
    }
   ],
   "source": [
    "# human message\n",
    "human_message = HumanMessage(\n",
    "    content=\"Hi, What you can do?\")\n",
    "\n",
    "print(f\"human message: {human_message}\")"
   ]
  },
  {
   "cell_type": "code",
   "execution_count": 46,
   "metadata": {},
   "outputs": [],
   "source": [
    "# message\n",
    "human_message = HumanMessage(\n",
    "    content=\"I want to know the weather in Quebec\"\n",
    ")"
   ]
  },
  {
   "cell_type": "code",
   "execution_count": 48,
   "metadata": {},
   "outputs": [],
   "source": [
    "# message\n",
    "human_message = HumanMessage(\n",
    "    content=\"It is located in Canada\"\n",
    ")"
   ]
  },
  {
   "cell_type": "code",
   "execution_count": 50,
   "metadata": {},
   "outputs": [],
   "source": [
    "# message\n",
    "human_message = HumanMessage(\n",
    "    content=\"Spring\"\n",
    ")"
   ]
  },
  {
   "cell_type": "code",
   "execution_count": 51,
   "metadata": {},
   "outputs": [
    {
     "data": {
      "text/html": [
       "<pre style=\"white-space:pre;overflow-x:auto;line-height:normal;font-family:Menlo,'DejaVu Sans Mono',consolas,'Courier New',monospace\">human_approval: <span style=\"color: #00ff00; text-decoration-color: #00ff00; font-style: italic\">True</span>\n",
       "</pre>\n"
      ],
      "text/plain": [
       "human_approval: \u001b[3;92mTrue\u001b[0m\n"
      ]
     },
     "metadata": {},
     "output_type": "display_data"
    },
    {
     "name": "stdout",
     "output_type": "stream",
     "text": [
      "================================\u001b[1m Human Message \u001b[0m=================================\n",
      "\n",
      "Spring\n",
      "==================================\u001b[1m Ai Message \u001b[0m==================================\n",
      "Tool Calls:\n",
      "  WeatherTool (call_qO1BdjXPrmczMsGle5Yo99VT)\n",
      " Call ID: call_qO1BdjXPrmczMsGle5Yo99VT\n",
      "  Args:\n",
      "    response: Spring in Quebec, Canada\n",
      "==================================\u001b[1m Ai Message \u001b[0m==================================\n",
      "Tool Calls:\n",
      "  WeatherTool (call_qO1BdjXPrmczMsGle5Yo99VT)\n",
      " Call ID: call_qO1BdjXPrmczMsGle5Yo99VT\n",
      "  Args:\n",
      "    response: Spring in Quebec, Canada\n",
      "================================\u001b[1m Human Message \u001b[0m=================================\n",
      "\n",
      "I have all information required for weather: user response: Spring in Quebec, Canada, block-signal: weather\n",
      "================================\u001b[1m Human Message \u001b[0m=================================\n",
      "Name: weather-agent\n",
      "\n",
      "The weather in Quebec during Spring is as follows:\n",
      "- Temperature: 14°C\n",
      "- Humidity: 61%\n",
      "- Wind: 6 km/h\n",
      "\n",
      "TASK-2-DONE\n",
      "================================\u001b[1m Human Message \u001b[0m=================================\n",
      "Name: weather-agent\n",
      "\n",
      "The weather in Quebec during Spring is as follows:\n",
      "- Temperature: 14°C\n",
      "- Humidity: 61%\n",
      "- Wind: 6 km/h\n",
      "\n",
      "TASK-2-DONE\n"
     ]
    }
   ],
   "source": [
    "# chat\n",
    "for event in graph.stream({'messages': [human_message]}, config=thread, stream_mode='values'):\n",
    "    # message\n",
    "    message = event['messages'][-1]\n",
    "    message.pretty_print()"
   ]
  },
  {
   "cell_type": "code",
   "execution_count": null,
   "metadata": {},
   "outputs": [],
   "source": [
    "# get state\n",
    "state = graph.get_state(thread).next\n",
    "print(f\"state: {state}\")"
   ]
  }
 ],
 "metadata": {
  "kernelspec": {
   "display_name": "venv (3.11.8)",
   "language": "python",
   "name": "python3"
  },
  "language_info": {
   "codemirror_mode": {
    "name": "ipython",
    "version": 3
   },
   "file_extension": ".py",
   "mimetype": "text/x-python",
   "name": "python",
   "nbconvert_exporter": "python",
   "pygments_lexer": "ipython3",
   "version": "3.11.8"
  }
 },
 "nbformat": 4,
 "nbformat_minor": 2
}
